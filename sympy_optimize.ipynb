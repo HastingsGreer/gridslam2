{
 "cells": [
  {
   "cell_type": "code",
   "execution_count": 1,
   "metadata": {
    "collapsed": true
   },
   "outputs": [],
   "source": [
    "import sympy"
   ]
  },
  {
   "cell_type": "code",
   "execution_count": 42,
   "metadata": {
    "collapsed": true
   },
   "outputs": [],
   "source": [
    "\n",
    "import sympy as np\n",
    "\n",
    "np.matrix = np.Matrix\n",
    "from PIL import Image\n",
    "import matplotlib.pyplot as plt\n",
    "\n",
    "\n",
    "\n",
    "import scipy.optimize\n",
    "\n",
    "\n",
    "\n",
    "\n",
    "#https://www.opengl.org/discussion_boards/showthread.php/197893-View-and-Perspective-matrices\n",
    "\n",
    "import math\n",
    " \n",
    "def magnitude(v):\n",
    "    return np.sqrt(np.sum(v ** 2))\n",
    "\n",
    "\n",
    "\n",
    "def simplePerspective(a):\n",
    "    return np.matrix([[1,0,0,0],\n",
    "                      [0,1,0,0],\n",
    "                      [0,0,1,a],\n",
    "                      [0,0,-a,0]])\n",
    "\n",
    " \n",
    "def translate(xyz):\n",
    "    x, y, z = xyz\n",
    "    return np.matrix([[1,0,0,x],\n",
    "                      [0,1,0,y],\n",
    "                      [0,0,1,z],\n",
    "                      [0,0,0,1]])\n",
    "\n",
    "def sincos(a):\n",
    "    #a = a * np.pi / 180\n",
    "    return np.sin(a), np.cos(a)\n",
    " \n",
    "def rotate(a, xyz):\n",
    "    x, y, z = normalize(xyz)\n",
    "    s, c = sincos(a)\n",
    "    nc = 1 - c\n",
    "    return np.matrix([[x*x*nc +   c, x*y*nc - z*s, x*z*nc + y*s, 0],\n",
    "                      [y*x*nc + z*s, y*y*nc +   c, y*z*nc - x*s, 0],\n",
    "                      [x*z*nc - y*s, y*z*nc + x*s, z*z*nc +   c, 0],\n",
    "                      [           0,            0,            0, 1]])\n",
    " \n",
    "def rotx(a):\n",
    "    s, c = sincos(a)\n",
    "    return np.matrix([[1,0,0,0],\n",
    "                      [0,c,-s,0],\n",
    "                      [0,s,c,0],\n",
    "                      [0,0,0,1]])\n",
    " \n",
    "def roty(a):\n",
    "    s, c = sincos(a)\n",
    "    return np.matrix([[c,0,s,0],\n",
    "                      [0,1,0,0],\n",
    "                      [-s,0,c,0],\n",
    "                      [0,0,0,1]])\n",
    " \n",
    "def rotz(a):\n",
    "    s, c = sincos(a)\n",
    "    return np.matrix([[c,-s,0,0],\n",
    "                      [s,c,0,0],\n",
    "                      [0,0,1,0],\n",
    "                      [0,0,0,1]])\n",
    "def euler(rotation):\n",
    "    return  roty(rotation[1])* rotx(rotation[0]) * rotz(rotation[2])\n",
    "def matrix(translation, rotation, focalLength):\n",
    "    return simplePerspective(focalLength) * euler(rotation) * translate(translation)\n",
    "\n",
    "def projectPoints(points, matrix, image):\n",
    "    out = matrix * points\n",
    "    out /= out[3, :].copy()\n",
    "    out = np.Matrix(out[:2, :])\n",
    "    out[0] += image.shape[1] / 2\n",
    "    out[1] += image.shape[0] / 2\n",
    "    return out\n",
    "def mat_from_vec(vector):\n",
    "    translation = vector[0:3]\n",
    "    rotation = vector[3:6]\n",
    "    focal = 1/vector[6]\n",
    "    the_matrix = matrix(translation, rotation, focal)\n",
    "    return the_matrix\n",
    "    \n",
    "class ManualAligner:\n",
    "    def __init__(self, image, focalLength=None, activeParams = None):\n",
    "        self.activeParams = activeParams\n",
    "        self.focalLength = focalLength\n",
    "        self.image = image\n",
    "        self.vector = np.array([0, 0, -15, 0, 0, 0, 800])\n",
    "        self.d = d = 6\n",
    "        gridx, gridy = np.mgrid[-d:d:1, -d:d:1]\n",
    "        self.grid = np.array([gridx.flatten(), gridy.flatten(), np.zeros(((2*d)**2)),np.ones(((2*d)**2)) ])\n",
    "        mymatrix = mat_from_vec(self.vector)\n",
    "\n",
    "        self.pts = projectPoints(self.grid, mymatrix, self.image)\n",
    "        \n",
    "        \n",
    "        self.gridOnScreen = np.zeros(self.pts.shape)\n",
    "    def interactive_align(self):\n",
    "        self.fig = plt.figure()\n",
    "\n",
    "        self.ax = self.fig.add_subplot(111)\n",
    "        self.ax.imshow(self.image)\n",
    "        self.init_grid_display()\n",
    "\n",
    "        self.ax.set_title('click on points')\n",
    "\n",
    "        \n",
    "        self.trueGrid, = self.ax.plot(self.gridOnScreen[0], self.gridOnScreen[1], \"o\")\n",
    "\n",
    "\n",
    "        self.activeIndex = -1\n",
    "\n",
    "        self.is_pick = False\n",
    "        self.fig.canvas.mpl_connect('pick_event', self.onpick)\n",
    "        \n",
    "        self.fig.canvas.mpl_connect(\"button_press_event\", self.on_click)\n",
    "        self.fig.canvas.mpl_connect(\"key_press_event\", self.on_key_press)\n",
    "       \n",
    "        plt.show()\n",
    "    def align_from_saved(self, points_corresponding):\n",
    "        self.gridOnScreen = points_corresponding\n",
    "        self.vector[self.activeParams] = self.get_best_vector_active_params()\n",
    "    def present_registration(self):\n",
    "        self.fig = plt.figure()\n",
    "\n",
    "        self.ax = self.fig.add_subplot(111)\n",
    "        \n",
    "        self.init_grid_display()\n",
    "        \n",
    "        self.ax.set_title('click on points')\n",
    "\n",
    "        \n",
    "        self.trueGrid, = self.ax.plot(self.gridOnScreen[0], self.gridOnScreen[1], \"o\")\n",
    "\n",
    "\n",
    "        self.activeIndex = -1\n",
    "\n",
    "        self.is_pick = False\n",
    "        self.process_updated_annotation()\n",
    "        self.ax.imshow(self.image)\n",
    "        plt.show()\n",
    "    def init_grid_display(self):\n",
    "        \n",
    "        self.fittedGrid, = self.ax.plot(self.pts[0], self.pts[1], \"o\", picker=5)\n",
    "        d = self.d\n",
    "        self.vertlines = self.ax.plot(self.pts[0].reshape((2 * d, 2 * d)), self.pts[1].reshape((2 * d, 2 * d)))\n",
    "        self.horzlines = self.ax.plot(self.pts[0].reshape((2 * d, 2 * d)).transpose(), self.pts[1].reshape((2 * d, 2 * d)).transpose())\n",
    "\n",
    "\n",
    "\n",
    "    def error(self, vector):\n",
    "        if self.focalLength is None:\n",
    "            the_matrix = mat_from_vec(vector)\n",
    "        else:\n",
    "            the_matrix = mat_from_vec(np.concatenate([vector, [self.focalLength]]))\n",
    "        the_pts = projectPoints(self.grid, the_matrix, self.image)\n",
    "        mask = self.gridOnScreen != 0\n",
    "        rotation = vector[3:6]\n",
    "        if self.focalLength:\n",
    "            focal = 1\n",
    "        else:\n",
    "            focal = 1/vector[6]\n",
    "        error = np.sum(np.abs((self.gridOnScreen[mask] - the_pts[mask])))\n",
    "        \n",
    "        return error\n",
    "\n",
    "    def error_active_params(self, vector):\n",
    "        the_vector = self.vector.copy()\n",
    "        the_vector[self.activeParams] = vector\n",
    "\n",
    "        the_matrix = mat_from_vec(the_vector)\n",
    "\n",
    "        the_pts = projectPoints(self.grid, the_matrix, self.image)\n",
    "        mask = self.gridOnScreen != 0\n",
    "        rotation = the_vector[3:6]\n",
    "        if self.focalLength:\n",
    "            focal = 1\n",
    "        else:\n",
    "            focal = 1/the_vector[6]\n",
    "        error = np.sum((self.gridOnScreen[mask] - the_pts[mask])**2) \n",
    "        \n",
    "        return error\n",
    "\n",
    "\n",
    "    def get_best_vector(self):\n",
    "        if self.focalLength is None:\n",
    "            res = scipy.optimize.minimize(self.error, self.vector.copy())\n",
    "        \n",
    "            return res.x\n",
    "        res = scipy.optimize.minimize(self.error, np.array([0, 0, -5, 0, 0, 0]))\n",
    "        print(\"fixed_fl\")\n",
    "\n",
    "        return np.concatenate([res.x, [self.focalLength]])\n",
    "\n",
    "    def get_best_vector_active_params(self):\n",
    "\n",
    "        res = scipy.optimize.minimize(self.error_active_params, self.vector.copy()[self.activeParams])\n",
    "        \n",
    "        return res.x\n",
    "\n",
    "    def onpick(self, event):    \n",
    "        ind = event.ind\n",
    "        if self.activeIndex != ind:\n",
    "            self.is_pick = True\n",
    "    \n",
    "        self.activeIndex = ind[0]\n",
    "\n",
    "    def process_updated_annotation(self):\n",
    "        self.trueGrid.set_data(self.gridOnScreen[0], self.gridOnScreen[1])\n",
    "        self.fig.canvas.draw()\n",
    "        \n",
    "        #self.vector = self.get_best_vector()\n",
    "        mymatrix = mat_from_vec(self.vector)\n",
    "        \n",
    "        self.pts = projectPoints(self.grid, mymatrix, self.image)\n",
    "        d = self.d\n",
    "        self.fittedGrid.set_data(self.pts[0], self.pts[1])\n",
    "        list(map(lambda data: data[0].set_data(data[1], data[2]), zip(self.vertlines, self.pts[0].reshape((2 * d, 2 * d)), self.pts[1].reshape((2 * d, 2 * d)))))\n",
    "        list(map(lambda data: data[0].set_data(data[1], data[2]), zip(self.horzlines, self.pts[0].reshape((2 * d, 2 * d)).transpose(), self.pts[1].reshape((2 * d, 2 * d)).transpose())))\n",
    "        #self.horzlines.set_data(self.pts[0].reshape((2 * d, 2 * d)).transpose(), self.pts[1].reshape((2 * d, 2 * d)).transpose())\n",
    "        self.fig.canvas.draw()\n",
    "\n",
    "    def on_click(self, event):\n",
    "       \n",
    "        if self.is_pick:\n",
    "            self.is_pick = False\n",
    "            return\n",
    "        self.gridOnScreen[:, self.activeIndex] = event.xdata, event.ydata\n",
    "        self.process_updated_annotation()\n",
    "\n",
    "    def on_key_press(self, event):\n",
    "        \n",
    "        if event.key == 'd':\n",
    "            self.gridOnScreen[:, self.activeIndex] = 0, 0\n",
    "            self.process_updated_annotation()\n",
    "        \n",
    "\n",
    "        \n",
    "\n",
    "\n",
    "\n",
    "\n",
    "\n",
    "\n"
   ]
  },
  {
   "cell_type": "code",
   "execution_count": 43,
   "metadata": {},
   "outputs": [
    {
     "data": {
      "text/plain": [
       "Matrix([\n",
       "[cos(a), -sin(a), 0, 0],\n",
       "[sin(a),  cos(a), 0, 0],\n",
       "[     0,       0, 1, 0],\n",
       "[     0,       0, 0, 1]])"
      ]
     },
     "execution_count": 43,
     "metadata": {},
     "output_type": "execute_result"
    }
   ],
   "source": [
    "rotz(np.symbols(\"a\"))"
   ]
  },
  {
   "cell_type": "code",
   "execution_count": 44,
   "metadata": {},
   "outputs": [
    {
     "data": {
      "text/plain": [
       "Matrix([\n",
       "[1, 0, 0, 0],\n",
       "[0, 1, 0, 0],\n",
       "[0, 0, 1, 0],\n",
       "[0, 0, 0, 1]])"
      ]
     },
     "execution_count": 44,
     "metadata": {},
     "output_type": "execute_result"
    }
   ],
   "source": [
    "image = lambda: 0\n",
    "image.shape = np.symbols(\"width height\")\n",
    "rotz(0)"
   ]
  },
  {
   "cell_type": "code",
   "execution_count": 45,
   "metadata": {
    "collapsed": true
   },
   "outputs": [],
   "source": [
    "vector = np.symbols(\"x y z pitch roll yaw focallength\")"
   ]
  },
  {
   "cell_type": "code",
   "execution_count": 46,
   "metadata": {
    "collapsed": true
   },
   "outputs": [],
   "source": [
    "screen_x, screen_y = np.symbols(\"screen_x screen_y\")\n",
    "point_on_screen = np.Matrix([[screen_x], [screen_y]])\n",
    "world_x, world_y, world_z = np.symbols(\"world_x world_y world_z\")\n",
    "point_in_world = np.Matrix([[world_x], [world_y], [world_z], [1]])"
   ]
  },
  {
   "cell_type": "code",
   "execution_count": 47,
   "metadata": {
    "collapsed": true
   },
   "outputs": [],
   "source": [
    "projected_point = projectPoints(points=point_in_world, matrix = mat_from_vec(vector), image=image)"
   ]
  },
  {
   "cell_type": "code",
   "execution_count": null,
   "metadata": {
    "collapsed": true
   },
   "outputs": [],
   "source": []
  },
  {
   "cell_type": "code",
   "execution_count": 48,
   "metadata": {
    "collapsed": true
   },
   "outputs": [],
   "source": [
    "error = (projected_point - point_on_screen).transpose() * (projected_point - point_on_screen)"
   ]
  },
  {
   "cell_type": "code",
   "execution_count": 49,
   "metadata": {},
   "outputs": [
    {
     "name": "stdout",
     "output_type": "stream",
     "text": [
      "x\n",
      "Matrix([[(-2*focallength*(sin(pitch)*sin(roll)*sin(yaw) + cos(roll)*cos(yaw))/(world_x*(sin(pitch)*sin(yaw)*cos(roll) - sin(roll)*cos(yaw)) + world_y*(sin(pitch)*cos(roll)*cos(yaw) + sin(roll)*sin(yaw)) + world_z*cos(pitch)*cos(roll) + x*(sin(pitch)*sin(yaw)*cos(roll) - sin(roll)*cos(yaw)) + y*(sin(pitch)*cos(roll)*cos(yaw) + sin(roll)*sin(yaw)) + z*cos(pitch)*cos(roll)) - 2*focallength*(-sin(pitch)*sin(yaw)*cos(roll) + sin(roll)*cos(yaw))*(world_x*(sin(pitch)*sin(roll)*sin(yaw) + cos(roll)*cos(yaw)) + world_y*(sin(pitch)*sin(roll)*cos(yaw) - sin(yaw)*cos(roll)) + world_z*sin(roll)*cos(pitch) + x*(sin(pitch)*sin(roll)*sin(yaw) + cos(roll)*cos(yaw)) + y*(sin(pitch)*sin(roll)*cos(yaw) - sin(yaw)*cos(roll)) + z*sin(roll)*cos(pitch))/(world_x*(sin(pitch)*sin(yaw)*cos(roll) - sin(roll)*cos(yaw)) + world_y*(sin(pitch)*cos(roll)*cos(yaw) + sin(roll)*sin(yaw)) + world_z*cos(pitch)*cos(roll) + x*(sin(pitch)*sin(yaw)*cos(roll) - sin(roll)*cos(yaw)) + y*(sin(pitch)*cos(roll)*cos(yaw) + sin(roll)*sin(yaw)) + z*cos(pitch)*cos(roll))**2)*(-focallength*(world_x*(sin(pitch)*sin(roll)*sin(yaw) + cos(roll)*cos(yaw)) + world_y*(sin(pitch)*sin(roll)*cos(yaw) - sin(yaw)*cos(roll)) + world_z*sin(roll)*cos(pitch) + x*(sin(pitch)*sin(roll)*sin(yaw) + cos(roll)*cos(yaw)) + y*(sin(pitch)*sin(roll)*cos(yaw) - sin(yaw)*cos(roll)) + z*sin(roll)*cos(pitch))/(world_x*(sin(pitch)*sin(yaw)*cos(roll) - sin(roll)*cos(yaw)) + world_y*(sin(pitch)*cos(roll)*cos(yaw) + sin(roll)*sin(yaw)) + world_z*cos(pitch)*cos(roll) + x*(sin(pitch)*sin(yaw)*cos(roll) - sin(roll)*cos(yaw)) + y*(sin(pitch)*cos(roll)*cos(yaw) + sin(roll)*sin(yaw)) + z*cos(pitch)*cos(roll)) + height/2 - screen_x) + (-2*focallength*(-sin(pitch)*sin(yaw)*cos(roll) + sin(roll)*cos(yaw))*(world_x*sin(yaw)*cos(pitch) + world_y*cos(pitch)*cos(yaw) - world_z*sin(pitch) + x*sin(yaw)*cos(pitch) + y*cos(pitch)*cos(yaw) - z*sin(pitch))/(world_x*(sin(pitch)*sin(yaw)*cos(roll) - sin(roll)*cos(yaw)) + world_y*(sin(pitch)*cos(roll)*cos(yaw) + sin(roll)*sin(yaw)) + world_z*cos(pitch)*cos(roll) + x*(sin(pitch)*sin(yaw)*cos(roll) - sin(roll)*cos(yaw)) + y*(sin(pitch)*cos(roll)*cos(yaw) + sin(roll)*sin(yaw)) + z*cos(pitch)*cos(roll))**2 - 2*focallength*sin(yaw)*cos(pitch)/(world_x*(sin(pitch)*sin(yaw)*cos(roll) - sin(roll)*cos(yaw)) + world_y*(sin(pitch)*cos(roll)*cos(yaw) + sin(roll)*sin(yaw)) + world_z*cos(pitch)*cos(roll) + x*(sin(pitch)*sin(yaw)*cos(roll) - sin(roll)*cos(yaw)) + y*(sin(pitch)*cos(roll)*cos(yaw) + sin(roll)*sin(yaw)) + z*cos(pitch)*cos(roll)))*(-focallength*(world_x*sin(yaw)*cos(pitch) + world_y*cos(pitch)*cos(yaw) - world_z*sin(pitch) + x*sin(yaw)*cos(pitch) + y*cos(pitch)*cos(yaw) - z*sin(pitch))/(world_x*(sin(pitch)*sin(yaw)*cos(roll) - sin(roll)*cos(yaw)) + world_y*(sin(pitch)*cos(roll)*cos(yaw) + sin(roll)*sin(yaw)) + world_z*cos(pitch)*cos(roll) + x*(sin(pitch)*sin(yaw)*cos(roll) - sin(roll)*cos(yaw)) + y*(sin(pitch)*cos(roll)*cos(yaw) + sin(roll)*sin(yaw)) + z*cos(pitch)*cos(roll)) - screen_y + width/2)]])\n",
      "y\n",
      "Matrix([[(-2*focallength*(sin(pitch)*sin(roll)*cos(yaw) - sin(yaw)*cos(roll))/(world_x*(sin(pitch)*sin(yaw)*cos(roll) - sin(roll)*cos(yaw)) + world_y*(sin(pitch)*cos(roll)*cos(yaw) + sin(roll)*sin(yaw)) + world_z*cos(pitch)*cos(roll) + x*(sin(pitch)*sin(yaw)*cos(roll) - sin(roll)*cos(yaw)) + y*(sin(pitch)*cos(roll)*cos(yaw) + sin(roll)*sin(yaw)) + z*cos(pitch)*cos(roll)) - 2*focallength*(-sin(pitch)*cos(roll)*cos(yaw) - sin(roll)*sin(yaw))*(world_x*(sin(pitch)*sin(roll)*sin(yaw) + cos(roll)*cos(yaw)) + world_y*(sin(pitch)*sin(roll)*cos(yaw) - sin(yaw)*cos(roll)) + world_z*sin(roll)*cos(pitch) + x*(sin(pitch)*sin(roll)*sin(yaw) + cos(roll)*cos(yaw)) + y*(sin(pitch)*sin(roll)*cos(yaw) - sin(yaw)*cos(roll)) + z*sin(roll)*cos(pitch))/(world_x*(sin(pitch)*sin(yaw)*cos(roll) - sin(roll)*cos(yaw)) + world_y*(sin(pitch)*cos(roll)*cos(yaw) + sin(roll)*sin(yaw)) + world_z*cos(pitch)*cos(roll) + x*(sin(pitch)*sin(yaw)*cos(roll) - sin(roll)*cos(yaw)) + y*(sin(pitch)*cos(roll)*cos(yaw) + sin(roll)*sin(yaw)) + z*cos(pitch)*cos(roll))**2)*(-focallength*(world_x*(sin(pitch)*sin(roll)*sin(yaw) + cos(roll)*cos(yaw)) + world_y*(sin(pitch)*sin(roll)*cos(yaw) - sin(yaw)*cos(roll)) + world_z*sin(roll)*cos(pitch) + x*(sin(pitch)*sin(roll)*sin(yaw) + cos(roll)*cos(yaw)) + y*(sin(pitch)*sin(roll)*cos(yaw) - sin(yaw)*cos(roll)) + z*sin(roll)*cos(pitch))/(world_x*(sin(pitch)*sin(yaw)*cos(roll) - sin(roll)*cos(yaw)) + world_y*(sin(pitch)*cos(roll)*cos(yaw) + sin(roll)*sin(yaw)) + world_z*cos(pitch)*cos(roll) + x*(sin(pitch)*sin(yaw)*cos(roll) - sin(roll)*cos(yaw)) + y*(sin(pitch)*cos(roll)*cos(yaw) + sin(roll)*sin(yaw)) + z*cos(pitch)*cos(roll)) + height/2 - screen_x) + (-2*focallength*(-sin(pitch)*cos(roll)*cos(yaw) - sin(roll)*sin(yaw))*(world_x*sin(yaw)*cos(pitch) + world_y*cos(pitch)*cos(yaw) - world_z*sin(pitch) + x*sin(yaw)*cos(pitch) + y*cos(pitch)*cos(yaw) - z*sin(pitch))/(world_x*(sin(pitch)*sin(yaw)*cos(roll) - sin(roll)*cos(yaw)) + world_y*(sin(pitch)*cos(roll)*cos(yaw) + sin(roll)*sin(yaw)) + world_z*cos(pitch)*cos(roll) + x*(sin(pitch)*sin(yaw)*cos(roll) - sin(roll)*cos(yaw)) + y*(sin(pitch)*cos(roll)*cos(yaw) + sin(roll)*sin(yaw)) + z*cos(pitch)*cos(roll))**2 - 2*focallength*cos(pitch)*cos(yaw)/(world_x*(sin(pitch)*sin(yaw)*cos(roll) - sin(roll)*cos(yaw)) + world_y*(sin(pitch)*cos(roll)*cos(yaw) + sin(roll)*sin(yaw)) + world_z*cos(pitch)*cos(roll) + x*(sin(pitch)*sin(yaw)*cos(roll) - sin(roll)*cos(yaw)) + y*(sin(pitch)*cos(roll)*cos(yaw) + sin(roll)*sin(yaw)) + z*cos(pitch)*cos(roll)))*(-focallength*(world_x*sin(yaw)*cos(pitch) + world_y*cos(pitch)*cos(yaw) - world_z*sin(pitch) + x*sin(yaw)*cos(pitch) + y*cos(pitch)*cos(yaw) - z*sin(pitch))/(world_x*(sin(pitch)*sin(yaw)*cos(roll) - sin(roll)*cos(yaw)) + world_y*(sin(pitch)*cos(roll)*cos(yaw) + sin(roll)*sin(yaw)) + world_z*cos(pitch)*cos(roll) + x*(sin(pitch)*sin(yaw)*cos(roll) - sin(roll)*cos(yaw)) + y*(sin(pitch)*cos(roll)*cos(yaw) + sin(roll)*sin(yaw)) + z*cos(pitch)*cos(roll)) - screen_y + width/2)]])\n",
      "z\n",
      "Matrix([[(2*focallength*sin(pitch)/(world_x*(sin(pitch)*sin(yaw)*cos(roll) - sin(roll)*cos(yaw)) + world_y*(sin(pitch)*cos(roll)*cos(yaw) + sin(roll)*sin(yaw)) + world_z*cos(pitch)*cos(roll) + x*(sin(pitch)*sin(yaw)*cos(roll) - sin(roll)*cos(yaw)) + y*(sin(pitch)*cos(roll)*cos(yaw) + sin(roll)*sin(yaw)) + z*cos(pitch)*cos(roll)) + 2*focallength*(world_x*sin(yaw)*cos(pitch) + world_y*cos(pitch)*cos(yaw) - world_z*sin(pitch) + x*sin(yaw)*cos(pitch) + y*cos(pitch)*cos(yaw) - z*sin(pitch))*cos(pitch)*cos(roll)/(world_x*(sin(pitch)*sin(yaw)*cos(roll) - sin(roll)*cos(yaw)) + world_y*(sin(pitch)*cos(roll)*cos(yaw) + sin(roll)*sin(yaw)) + world_z*cos(pitch)*cos(roll) + x*(sin(pitch)*sin(yaw)*cos(roll) - sin(roll)*cos(yaw)) + y*(sin(pitch)*cos(roll)*cos(yaw) + sin(roll)*sin(yaw)) + z*cos(pitch)*cos(roll))**2)*(-focallength*(world_x*sin(yaw)*cos(pitch) + world_y*cos(pitch)*cos(yaw) - world_z*sin(pitch) + x*sin(yaw)*cos(pitch) + y*cos(pitch)*cos(yaw) - z*sin(pitch))/(world_x*(sin(pitch)*sin(yaw)*cos(roll) - sin(roll)*cos(yaw)) + world_y*(sin(pitch)*cos(roll)*cos(yaw) + sin(roll)*sin(yaw)) + world_z*cos(pitch)*cos(roll) + x*(sin(pitch)*sin(yaw)*cos(roll) - sin(roll)*cos(yaw)) + y*(sin(pitch)*cos(roll)*cos(yaw) + sin(roll)*sin(yaw)) + z*cos(pitch)*cos(roll)) - screen_y + width/2) + (2*focallength*(world_x*(sin(pitch)*sin(roll)*sin(yaw) + cos(roll)*cos(yaw)) + world_y*(sin(pitch)*sin(roll)*cos(yaw) - sin(yaw)*cos(roll)) + world_z*sin(roll)*cos(pitch) + x*(sin(pitch)*sin(roll)*sin(yaw) + cos(roll)*cos(yaw)) + y*(sin(pitch)*sin(roll)*cos(yaw) - sin(yaw)*cos(roll)) + z*sin(roll)*cos(pitch))*cos(pitch)*cos(roll)/(world_x*(sin(pitch)*sin(yaw)*cos(roll) - sin(roll)*cos(yaw)) + world_y*(sin(pitch)*cos(roll)*cos(yaw) + sin(roll)*sin(yaw)) + world_z*cos(pitch)*cos(roll) + x*(sin(pitch)*sin(yaw)*cos(roll) - sin(roll)*cos(yaw)) + y*(sin(pitch)*cos(roll)*cos(yaw) + sin(roll)*sin(yaw)) + z*cos(pitch)*cos(roll))**2 - 2*focallength*sin(roll)*cos(pitch)/(world_x*(sin(pitch)*sin(yaw)*cos(roll) - sin(roll)*cos(yaw)) + world_y*(sin(pitch)*cos(roll)*cos(yaw) + sin(roll)*sin(yaw)) + world_z*cos(pitch)*cos(roll) + x*(sin(pitch)*sin(yaw)*cos(roll) - sin(roll)*cos(yaw)) + y*(sin(pitch)*cos(roll)*cos(yaw) + sin(roll)*sin(yaw)) + z*cos(pitch)*cos(roll)))*(-focallength*(world_x*(sin(pitch)*sin(roll)*sin(yaw) + cos(roll)*cos(yaw)) + world_y*(sin(pitch)*sin(roll)*cos(yaw) - sin(yaw)*cos(roll)) + world_z*sin(roll)*cos(pitch) + x*(sin(pitch)*sin(roll)*sin(yaw) + cos(roll)*cos(yaw)) + y*(sin(pitch)*sin(roll)*cos(yaw) - sin(yaw)*cos(roll)) + z*sin(roll)*cos(pitch))/(world_x*(sin(pitch)*sin(yaw)*cos(roll) - sin(roll)*cos(yaw)) + world_y*(sin(pitch)*cos(roll)*cos(yaw) + sin(roll)*sin(yaw)) + world_z*cos(pitch)*cos(roll) + x*(sin(pitch)*sin(yaw)*cos(roll) - sin(roll)*cos(yaw)) + y*(sin(pitch)*cos(roll)*cos(yaw) + sin(roll)*sin(yaw)) + z*cos(pitch)*cos(roll)) + height/2 - screen_x)]])\n",
      "pitch\n",
      "Matrix([[(-2*focallength*(-world_x*sin(pitch)*sin(yaw) - world_y*sin(pitch)*cos(yaw) - world_z*cos(pitch) - x*sin(pitch)*sin(yaw) - y*sin(pitch)*cos(yaw) - z*cos(pitch))/(world_x*(sin(pitch)*sin(yaw)*cos(roll) - sin(roll)*cos(yaw)) + world_y*(sin(pitch)*cos(roll)*cos(yaw) + sin(roll)*sin(yaw)) + world_z*cos(pitch)*cos(roll) + x*(sin(pitch)*sin(yaw)*cos(roll) - sin(roll)*cos(yaw)) + y*(sin(pitch)*cos(roll)*cos(yaw) + sin(roll)*sin(yaw)) + z*cos(pitch)*cos(roll)) - 2*focallength*(world_x*sin(yaw)*cos(pitch) + world_y*cos(pitch)*cos(yaw) - world_z*sin(pitch) + x*sin(yaw)*cos(pitch) + y*cos(pitch)*cos(yaw) - z*sin(pitch))*(-world_x*sin(yaw)*cos(pitch)*cos(roll) - world_y*cos(pitch)*cos(roll)*cos(yaw) + world_z*sin(pitch)*cos(roll) - x*sin(yaw)*cos(pitch)*cos(roll) - y*cos(pitch)*cos(roll)*cos(yaw) + z*sin(pitch)*cos(roll))/(world_x*(sin(pitch)*sin(yaw)*cos(roll) - sin(roll)*cos(yaw)) + world_y*(sin(pitch)*cos(roll)*cos(yaw) + sin(roll)*sin(yaw)) + world_z*cos(pitch)*cos(roll) + x*(sin(pitch)*sin(yaw)*cos(roll) - sin(roll)*cos(yaw)) + y*(sin(pitch)*cos(roll)*cos(yaw) + sin(roll)*sin(yaw)) + z*cos(pitch)*cos(roll))**2)*(-focallength*(world_x*sin(yaw)*cos(pitch) + world_y*cos(pitch)*cos(yaw) - world_z*sin(pitch) + x*sin(yaw)*cos(pitch) + y*cos(pitch)*cos(yaw) - z*sin(pitch))/(world_x*(sin(pitch)*sin(yaw)*cos(roll) - sin(roll)*cos(yaw)) + world_y*(sin(pitch)*cos(roll)*cos(yaw) + sin(roll)*sin(yaw)) + world_z*cos(pitch)*cos(roll) + x*(sin(pitch)*sin(yaw)*cos(roll) - sin(roll)*cos(yaw)) + y*(sin(pitch)*cos(roll)*cos(yaw) + sin(roll)*sin(yaw)) + z*cos(pitch)*cos(roll)) - screen_y + width/2) + (-2*focallength*(world_x*(sin(pitch)*sin(roll)*sin(yaw) + cos(roll)*cos(yaw)) + world_y*(sin(pitch)*sin(roll)*cos(yaw) - sin(yaw)*cos(roll)) + world_z*sin(roll)*cos(pitch) + x*(sin(pitch)*sin(roll)*sin(yaw) + cos(roll)*cos(yaw)) + y*(sin(pitch)*sin(roll)*cos(yaw) - sin(yaw)*cos(roll)) + z*sin(roll)*cos(pitch))*(-world_x*sin(yaw)*cos(pitch)*cos(roll) - world_y*cos(pitch)*cos(roll)*cos(yaw) + world_z*sin(pitch)*cos(roll) - x*sin(yaw)*cos(pitch)*cos(roll) - y*cos(pitch)*cos(roll)*cos(yaw) + z*sin(pitch)*cos(roll))/(world_x*(sin(pitch)*sin(yaw)*cos(roll) - sin(roll)*cos(yaw)) + world_y*(sin(pitch)*cos(roll)*cos(yaw) + sin(roll)*sin(yaw)) + world_z*cos(pitch)*cos(roll) + x*(sin(pitch)*sin(yaw)*cos(roll) - sin(roll)*cos(yaw)) + y*(sin(pitch)*cos(roll)*cos(yaw) + sin(roll)*sin(yaw)) + z*cos(pitch)*cos(roll))**2 - 2*focallength*(world_x*sin(roll)*sin(yaw)*cos(pitch) + world_y*sin(roll)*cos(pitch)*cos(yaw) - world_z*sin(pitch)*sin(roll) + x*sin(roll)*sin(yaw)*cos(pitch) + y*sin(roll)*cos(pitch)*cos(yaw) - z*sin(pitch)*sin(roll))/(world_x*(sin(pitch)*sin(yaw)*cos(roll) - sin(roll)*cos(yaw)) + world_y*(sin(pitch)*cos(roll)*cos(yaw) + sin(roll)*sin(yaw)) + world_z*cos(pitch)*cos(roll) + x*(sin(pitch)*sin(yaw)*cos(roll) - sin(roll)*cos(yaw)) + y*(sin(pitch)*cos(roll)*cos(yaw) + sin(roll)*sin(yaw)) + z*cos(pitch)*cos(roll)))*(-focallength*(world_x*(sin(pitch)*sin(roll)*sin(yaw) + cos(roll)*cos(yaw)) + world_y*(sin(pitch)*sin(roll)*cos(yaw) - sin(yaw)*cos(roll)) + world_z*sin(roll)*cos(pitch) + x*(sin(pitch)*sin(roll)*sin(yaw) + cos(roll)*cos(yaw)) + y*(sin(pitch)*sin(roll)*cos(yaw) - sin(yaw)*cos(roll)) + z*sin(roll)*cos(pitch))/(world_x*(sin(pitch)*sin(yaw)*cos(roll) - sin(roll)*cos(yaw)) + world_y*(sin(pitch)*cos(roll)*cos(yaw) + sin(roll)*sin(yaw)) + world_z*cos(pitch)*cos(roll) + x*(sin(pitch)*sin(yaw)*cos(roll) - sin(roll)*cos(yaw)) + y*(sin(pitch)*cos(roll)*cos(yaw) + sin(roll)*sin(yaw)) + z*cos(pitch)*cos(roll)) + height/2 - screen_x)]])\n",
      "roll\n",
      "Matrix([[-2*focallength*(-focallength*(world_x*sin(yaw)*cos(pitch) + world_y*cos(pitch)*cos(yaw) - world_z*sin(pitch) + x*sin(yaw)*cos(pitch) + y*cos(pitch)*cos(yaw) - z*sin(pitch))/(world_x*(sin(pitch)*sin(yaw)*cos(roll) - sin(roll)*cos(yaw)) + world_y*(sin(pitch)*cos(roll)*cos(yaw) + sin(roll)*sin(yaw)) + world_z*cos(pitch)*cos(roll) + x*(sin(pitch)*sin(yaw)*cos(roll) - sin(roll)*cos(yaw)) + y*(sin(pitch)*cos(roll)*cos(yaw) + sin(roll)*sin(yaw)) + z*cos(pitch)*cos(roll)) - screen_y + width/2)*(-world_x*(-sin(pitch)*sin(roll)*sin(yaw) - cos(roll)*cos(yaw)) - world_y*(-sin(pitch)*sin(roll)*cos(yaw) + sin(yaw)*cos(roll)) + world_z*sin(roll)*cos(pitch) - x*(-sin(pitch)*sin(roll)*sin(yaw) - cos(roll)*cos(yaw)) - y*(-sin(pitch)*sin(roll)*cos(yaw) + sin(yaw)*cos(roll)) + z*sin(roll)*cos(pitch))*(world_x*sin(yaw)*cos(pitch) + world_y*cos(pitch)*cos(yaw) - world_z*sin(pitch) + x*sin(yaw)*cos(pitch) + y*cos(pitch)*cos(yaw) - z*sin(pitch))/(world_x*(sin(pitch)*sin(yaw)*cos(roll) - sin(roll)*cos(yaw)) + world_y*(sin(pitch)*cos(roll)*cos(yaw) + sin(roll)*sin(yaw)) + world_z*cos(pitch)*cos(roll) + x*(sin(pitch)*sin(yaw)*cos(roll) - sin(roll)*cos(yaw)) + y*(sin(pitch)*cos(roll)*cos(yaw) + sin(roll)*sin(yaw)) + z*cos(pitch)*cos(roll))**2 + (-2*focallength*(-world_x*(-sin(pitch)*sin(roll)*sin(yaw) - cos(roll)*cos(yaw)) - world_y*(-sin(pitch)*sin(roll)*cos(yaw) + sin(yaw)*cos(roll)) + world_z*sin(roll)*cos(pitch) - x*(-sin(pitch)*sin(roll)*sin(yaw) - cos(roll)*cos(yaw)) - y*(-sin(pitch)*sin(roll)*cos(yaw) + sin(yaw)*cos(roll)) + z*sin(roll)*cos(pitch))*(world_x*(sin(pitch)*sin(roll)*sin(yaw) + cos(roll)*cos(yaw)) + world_y*(sin(pitch)*sin(roll)*cos(yaw) - sin(yaw)*cos(roll)) + world_z*sin(roll)*cos(pitch) + x*(sin(pitch)*sin(roll)*sin(yaw) + cos(roll)*cos(yaw)) + y*(sin(pitch)*sin(roll)*cos(yaw) - sin(yaw)*cos(roll)) + z*sin(roll)*cos(pitch))/(world_x*(sin(pitch)*sin(yaw)*cos(roll) - sin(roll)*cos(yaw)) + world_y*(sin(pitch)*cos(roll)*cos(yaw) + sin(roll)*sin(yaw)) + world_z*cos(pitch)*cos(roll) + x*(sin(pitch)*sin(yaw)*cos(roll) - sin(roll)*cos(yaw)) + y*(sin(pitch)*cos(roll)*cos(yaw) + sin(roll)*sin(yaw)) + z*cos(pitch)*cos(roll))**2 - 2*focallength)*(-focallength*(world_x*(sin(pitch)*sin(roll)*sin(yaw) + cos(roll)*cos(yaw)) + world_y*(sin(pitch)*sin(roll)*cos(yaw) - sin(yaw)*cos(roll)) + world_z*sin(roll)*cos(pitch) + x*(sin(pitch)*sin(roll)*sin(yaw) + cos(roll)*cos(yaw)) + y*(sin(pitch)*sin(roll)*cos(yaw) - sin(yaw)*cos(roll)) + z*sin(roll)*cos(pitch))/(world_x*(sin(pitch)*sin(yaw)*cos(roll) - sin(roll)*cos(yaw)) + world_y*(sin(pitch)*cos(roll)*cos(yaw) + sin(roll)*sin(yaw)) + world_z*cos(pitch)*cos(roll) + x*(sin(pitch)*sin(yaw)*cos(roll) - sin(roll)*cos(yaw)) + y*(sin(pitch)*cos(roll)*cos(yaw) + sin(roll)*sin(yaw)) + z*cos(pitch)*cos(roll)) + height/2 - screen_x)]])\n",
      "yaw\n",
      "Matrix([[(-2*focallength*(world_x*(sin(pitch)*sin(roll)*cos(yaw) - sin(yaw)*cos(roll)) + world_y*(-sin(pitch)*sin(roll)*sin(yaw) - cos(roll)*cos(yaw)) + x*(sin(pitch)*sin(roll)*cos(yaw) - sin(yaw)*cos(roll)) + y*(-sin(pitch)*sin(roll)*sin(yaw) - cos(roll)*cos(yaw)))/(world_x*(sin(pitch)*sin(yaw)*cos(roll) - sin(roll)*cos(yaw)) + world_y*(sin(pitch)*cos(roll)*cos(yaw) + sin(roll)*sin(yaw)) + world_z*cos(pitch)*cos(roll) + x*(sin(pitch)*sin(yaw)*cos(roll) - sin(roll)*cos(yaw)) + y*(sin(pitch)*cos(roll)*cos(yaw) + sin(roll)*sin(yaw)) + z*cos(pitch)*cos(roll)) - 2*focallength*(-world_x*(sin(pitch)*cos(roll)*cos(yaw) + sin(roll)*sin(yaw)) - world_y*(-sin(pitch)*sin(yaw)*cos(roll) + sin(roll)*cos(yaw)) - x*(sin(pitch)*cos(roll)*cos(yaw) + sin(roll)*sin(yaw)) - y*(-sin(pitch)*sin(yaw)*cos(roll) + sin(roll)*cos(yaw)))*(world_x*(sin(pitch)*sin(roll)*sin(yaw) + cos(roll)*cos(yaw)) + world_y*(sin(pitch)*sin(roll)*cos(yaw) - sin(yaw)*cos(roll)) + world_z*sin(roll)*cos(pitch) + x*(sin(pitch)*sin(roll)*sin(yaw) + cos(roll)*cos(yaw)) + y*(sin(pitch)*sin(roll)*cos(yaw) - sin(yaw)*cos(roll)) + z*sin(roll)*cos(pitch))/(world_x*(sin(pitch)*sin(yaw)*cos(roll) - sin(roll)*cos(yaw)) + world_y*(sin(pitch)*cos(roll)*cos(yaw) + sin(roll)*sin(yaw)) + world_z*cos(pitch)*cos(roll) + x*(sin(pitch)*sin(yaw)*cos(roll) - sin(roll)*cos(yaw)) + y*(sin(pitch)*cos(roll)*cos(yaw) + sin(roll)*sin(yaw)) + z*cos(pitch)*cos(roll))**2)*(-focallength*(world_x*(sin(pitch)*sin(roll)*sin(yaw) + cos(roll)*cos(yaw)) + world_y*(sin(pitch)*sin(roll)*cos(yaw) - sin(yaw)*cos(roll)) + world_z*sin(roll)*cos(pitch) + x*(sin(pitch)*sin(roll)*sin(yaw) + cos(roll)*cos(yaw)) + y*(sin(pitch)*sin(roll)*cos(yaw) - sin(yaw)*cos(roll)) + z*sin(roll)*cos(pitch))/(world_x*(sin(pitch)*sin(yaw)*cos(roll) - sin(roll)*cos(yaw)) + world_y*(sin(pitch)*cos(roll)*cos(yaw) + sin(roll)*sin(yaw)) + world_z*cos(pitch)*cos(roll) + x*(sin(pitch)*sin(yaw)*cos(roll) - sin(roll)*cos(yaw)) + y*(sin(pitch)*cos(roll)*cos(yaw) + sin(roll)*sin(yaw)) + z*cos(pitch)*cos(roll)) + height/2 - screen_x) + (-2*focallength*(-world_x*(sin(pitch)*cos(roll)*cos(yaw) + sin(roll)*sin(yaw)) - world_y*(-sin(pitch)*sin(yaw)*cos(roll) + sin(roll)*cos(yaw)) - x*(sin(pitch)*cos(roll)*cos(yaw) + sin(roll)*sin(yaw)) - y*(-sin(pitch)*sin(yaw)*cos(roll) + sin(roll)*cos(yaw)))*(world_x*sin(yaw)*cos(pitch) + world_y*cos(pitch)*cos(yaw) - world_z*sin(pitch) + x*sin(yaw)*cos(pitch) + y*cos(pitch)*cos(yaw) - z*sin(pitch))/(world_x*(sin(pitch)*sin(yaw)*cos(roll) - sin(roll)*cos(yaw)) + world_y*(sin(pitch)*cos(roll)*cos(yaw) + sin(roll)*sin(yaw)) + world_z*cos(pitch)*cos(roll) + x*(sin(pitch)*sin(yaw)*cos(roll) - sin(roll)*cos(yaw)) + y*(sin(pitch)*cos(roll)*cos(yaw) + sin(roll)*sin(yaw)) + z*cos(pitch)*cos(roll))**2 - 2*focallength*(world_x*cos(pitch)*cos(yaw) - world_y*sin(yaw)*cos(pitch) + x*cos(pitch)*cos(yaw) - y*sin(yaw)*cos(pitch))/(world_x*(sin(pitch)*sin(yaw)*cos(roll) - sin(roll)*cos(yaw)) + world_y*(sin(pitch)*cos(roll)*cos(yaw) + sin(roll)*sin(yaw)) + world_z*cos(pitch)*cos(roll) + x*(sin(pitch)*sin(yaw)*cos(roll) - sin(roll)*cos(yaw)) + y*(sin(pitch)*cos(roll)*cos(yaw) + sin(roll)*sin(yaw)) + z*cos(pitch)*cos(roll)))*(-focallength*(world_x*sin(yaw)*cos(pitch) + world_y*cos(pitch)*cos(yaw) - world_z*sin(pitch) + x*sin(yaw)*cos(pitch) + y*cos(pitch)*cos(yaw) - z*sin(pitch))/(world_x*(sin(pitch)*sin(yaw)*cos(roll) - sin(roll)*cos(yaw)) + world_y*(sin(pitch)*cos(roll)*cos(yaw) + sin(roll)*sin(yaw)) + world_z*cos(pitch)*cos(roll) + x*(sin(pitch)*sin(yaw)*cos(roll) - sin(roll)*cos(yaw)) + y*(sin(pitch)*cos(roll)*cos(yaw) + sin(roll)*sin(yaw)) + z*cos(pitch)*cos(roll)) - screen_y + width/2)]])\n",
      "focallength\n",
      "Matrix([[-2*(-focallength*(world_x*(sin(pitch)*sin(roll)*sin(yaw) + cos(roll)*cos(yaw)) + world_y*(sin(pitch)*sin(roll)*cos(yaw) - sin(yaw)*cos(roll)) + world_z*sin(roll)*cos(pitch) + x*(sin(pitch)*sin(roll)*sin(yaw) + cos(roll)*cos(yaw)) + y*(sin(pitch)*sin(roll)*cos(yaw) - sin(yaw)*cos(roll)) + z*sin(roll)*cos(pitch))/(world_x*(sin(pitch)*sin(yaw)*cos(roll) - sin(roll)*cos(yaw)) + world_y*(sin(pitch)*cos(roll)*cos(yaw) + sin(roll)*sin(yaw)) + world_z*cos(pitch)*cos(roll) + x*(sin(pitch)*sin(yaw)*cos(roll) - sin(roll)*cos(yaw)) + y*(sin(pitch)*cos(roll)*cos(yaw) + sin(roll)*sin(yaw)) + z*cos(pitch)*cos(roll)) + height/2 - screen_x)*(world_x*(sin(pitch)*sin(roll)*sin(yaw) + cos(roll)*cos(yaw)) + world_y*(sin(pitch)*sin(roll)*cos(yaw) - sin(yaw)*cos(roll)) + world_z*sin(roll)*cos(pitch) + x*(sin(pitch)*sin(roll)*sin(yaw) + cos(roll)*cos(yaw)) + y*(sin(pitch)*sin(roll)*cos(yaw) - sin(yaw)*cos(roll)) + z*sin(roll)*cos(pitch))/(world_x*(sin(pitch)*sin(yaw)*cos(roll) - sin(roll)*cos(yaw)) + world_y*(sin(pitch)*cos(roll)*cos(yaw) + sin(roll)*sin(yaw)) + world_z*cos(pitch)*cos(roll) + x*(sin(pitch)*sin(yaw)*cos(roll) - sin(roll)*cos(yaw)) + y*(sin(pitch)*cos(roll)*cos(yaw) + sin(roll)*sin(yaw)) + z*cos(pitch)*cos(roll)) - 2*(-focallength*(world_x*sin(yaw)*cos(pitch) + world_y*cos(pitch)*cos(yaw) - world_z*sin(pitch) + x*sin(yaw)*cos(pitch) + y*cos(pitch)*cos(yaw) - z*sin(pitch))/(world_x*(sin(pitch)*sin(yaw)*cos(roll) - sin(roll)*cos(yaw)) + world_y*(sin(pitch)*cos(roll)*cos(yaw) + sin(roll)*sin(yaw)) + world_z*cos(pitch)*cos(roll) + x*(sin(pitch)*sin(yaw)*cos(roll) - sin(roll)*cos(yaw)) + y*(sin(pitch)*cos(roll)*cos(yaw) + sin(roll)*sin(yaw)) + z*cos(pitch)*cos(roll)) - screen_y + width/2)*(world_x*sin(yaw)*cos(pitch) + world_y*cos(pitch)*cos(yaw) - world_z*sin(pitch) + x*sin(yaw)*cos(pitch) + y*cos(pitch)*cos(yaw) - z*sin(pitch))/(world_x*(sin(pitch)*sin(yaw)*cos(roll) - sin(roll)*cos(yaw)) + world_y*(sin(pitch)*cos(roll)*cos(yaw) + sin(roll)*sin(yaw)) + world_z*cos(pitch)*cos(roll) + x*(sin(pitch)*sin(yaw)*cos(roll) - sin(roll)*cos(yaw)) + y*(sin(pitch)*cos(roll)*cos(yaw) + sin(roll)*sin(yaw)) + z*cos(pitch)*cos(roll))]])\n"
     ]
    }
   ],
   "source": [
    "for e in vector:\n",
    "    print(e)\n",
    "    print(np.diff(error, e))"
   ]
  },
  {
   "cell_type": "code",
   "execution_count": 36,
   "metadata": {
    "collapsed": true
   },
   "outputs": [],
   "source": [
    "error.simplify()"
   ]
  },
  {
   "cell_type": "code",
   "execution_count": 50,
   "metadata": {},
   "outputs": [
    {
     "data": {
      "text/plain": [
       "Matrix([[(-focallength*(world_x*(sin(pitch)*sin(roll)*sin(yaw) + cos(roll)*cos(yaw)) + world_y*(sin(pitch)*sin(roll)*cos(yaw) - sin(yaw)*cos(roll)) + world_z*sin(roll)*cos(pitch) + x*(sin(pitch)*sin(roll)*sin(yaw) + cos(roll)*cos(yaw)) + y*(sin(pitch)*sin(roll)*cos(yaw) - sin(yaw)*cos(roll)) + z*sin(roll)*cos(pitch))/(world_x*(sin(pitch)*sin(yaw)*cos(roll) - sin(roll)*cos(yaw)) + world_y*(sin(pitch)*cos(roll)*cos(yaw) + sin(roll)*sin(yaw)) + world_z*cos(pitch)*cos(roll) + x*(sin(pitch)*sin(yaw)*cos(roll) - sin(roll)*cos(yaw)) + y*(sin(pitch)*cos(roll)*cos(yaw) + sin(roll)*sin(yaw)) + z*cos(pitch)*cos(roll)) + height/2 - screen_x)**2 + (-focallength*(world_x*sin(yaw)*cos(pitch) + world_y*cos(pitch)*cos(yaw) - world_z*sin(pitch) + x*sin(yaw)*cos(pitch) + y*cos(pitch)*cos(yaw) - z*sin(pitch))/(world_x*(sin(pitch)*sin(yaw)*cos(roll) - sin(roll)*cos(yaw)) + world_y*(sin(pitch)*cos(roll)*cos(yaw) + sin(roll)*sin(yaw)) + world_z*cos(pitch)*cos(roll) + x*(sin(pitch)*sin(yaw)*cos(roll) - sin(roll)*cos(yaw)) + y*(sin(pitch)*cos(roll)*cos(yaw) + sin(roll)*sin(yaw)) + z*cos(pitch)*cos(roll)) - screen_y + width/2)**2]])"
      ]
     },
     "execution_count": 50,
     "metadata": {},
     "output_type": "execute_result"
    }
   ],
   "source": [
    "error"
   ]
  },
  {
   "cell_type": "code",
   "execution_count": 39,
   "metadata": {},
   "outputs": [
    {
     "data": {
      "text/plain": [
       "Matrix([[((2*focallength*(world_x*(sin(pi*pitch/180)*sin(pi*roll/180)*sin(pi*yaw/180) + cos(pi*roll/180)*cos(pi*yaw/180)) + world_y*(sin(pi*pitch/180)*sin(pi*roll/180)*cos(pi*yaw/180) - sin(pi*yaw/180)*cos(pi*roll/180)) + world_z*sin(pi*roll/180)*cos(pi*pitch/180) + x*(sin(pi*pitch/180)*sin(pi*roll/180)*sin(pi*yaw/180) + cos(pi*roll/180)*cos(pi*yaw/180)) + y*(sin(pi*pitch/180)*sin(pi*roll/180)*cos(pi*yaw/180) - sin(pi*yaw/180)*cos(pi*roll/180)) + z*sin(pi*roll/180)*cos(pi*pitch/180)) + (-height + 2*screen_x)*(world_x*(sin(pi*pitch/180)*sin(pi*yaw/180)*cos(pi*roll/180) - sin(pi*roll/180)*cos(pi*yaw/180)) + world_y*(sin(pi*pitch/180)*cos(pi*roll/180)*cos(pi*yaw/180) + sin(pi*roll/180)*sin(pi*yaw/180)) + world_z*cos(pi*pitch/180)*cos(pi*roll/180) + x*(sin(pi*pitch/180)*sin(pi*yaw/180)*cos(pi*roll/180) - sin(pi*roll/180)*cos(pi*yaw/180)) + y*(sin(pi*pitch/180)*cos(pi*roll/180)*cos(pi*yaw/180) + sin(pi*roll/180)*sin(pi*yaw/180)) + z*cos(pi*pitch/180)*cos(pi*roll/180)))**2 + (2*focallength*(world_x*sin(pi*yaw/180)*cos(pi*pitch/180) + world_y*cos(pi*pitch/180)*cos(pi*yaw/180) - world_z*sin(pi*pitch/180) + x*sin(pi*yaw/180)*cos(pi*pitch/180) + y*cos(pi*pitch/180)*cos(pi*yaw/180) - z*sin(pi*pitch/180)) + (2*screen_y - width)*(world_x*(sin(pi*pitch/180)*sin(pi*yaw/180)*cos(pi*roll/180) - sin(pi*roll/180)*cos(pi*yaw/180)) + world_y*(sin(pi*pitch/180)*cos(pi*roll/180)*cos(pi*yaw/180) + sin(pi*roll/180)*sin(pi*yaw/180)) + world_z*cos(pi*pitch/180)*cos(pi*roll/180) + x*(sin(pi*pitch/180)*sin(pi*yaw/180)*cos(pi*roll/180) - sin(pi*roll/180)*cos(pi*yaw/180)) + y*(sin(pi*pitch/180)*cos(pi*roll/180)*cos(pi*yaw/180) + sin(pi*roll/180)*sin(pi*yaw/180)) + z*cos(pi*pitch/180)*cos(pi*roll/180)))**2)/(4*(world_x*(sin(pi*pitch/180)*sin(pi*yaw/180)*cos(pi*roll/180) - sin(pi*roll/180)*cos(pi*yaw/180)) + world_y*(sin(pi*pitch/180)*cos(pi*roll/180)*cos(pi*yaw/180) + sin(pi*roll/180)*sin(pi*yaw/180)) + world_z*cos(pi*pitch/180)*cos(pi*roll/180) + x*(sin(pi*pitch/180)*sin(pi*yaw/180)*cos(pi*roll/180) - sin(pi*roll/180)*cos(pi*yaw/180)) + y*(sin(pi*pitch/180)*cos(pi*roll/180)*cos(pi*yaw/180) + sin(pi*roll/180)*sin(pi*yaw/180)) + z*cos(pi*pitch/180)*cos(pi*roll/180))**2)]])"
      ]
     },
     "execution_count": 39,
     "metadata": {},
     "output_type": "execute_result"
    }
   ],
   "source": [
    "__"
   ]
  },
  {
   "cell_type": "code",
   "execution_count": null,
   "metadata": {
    "collapsed": true
   },
   "outputs": [],
   "source": []
  }
 ],
 "metadata": {
  "kernelspec": {
   "display_name": "Python 3",
   "language": "python",
   "name": "python3"
  },
  "language_info": {
   "codemirror_mode": {
    "name": "ipython",
    "version": 3
   },
   "file_extension": ".py",
   "mimetype": "text/x-python",
   "name": "python",
   "nbconvert_exporter": "python",
   "pygments_lexer": "ipython3",
   "version": "3.6.1"
  }
 },
 "nbformat": 4,
 "nbformat_minor": 2
}
